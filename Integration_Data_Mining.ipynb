{
 "cells": [
  {
   "cell_type": "code",
   "execution_count": 1,
   "metadata": {},
   "outputs": [],
   "source": [
    "import networkx as nx\n",
    "import pandas as pd\n",
    "import matplotlib.pyplot as plt\n",
    "%matplotlib inline\n",
    "import warnings; warnings.simplefilter('ignore')\n",
    "import tweepy\n",
    "import time\n",
    "import json\n",
    "# import infomap\n",
    "from tqdm import tqdm, trange"
   ]
  },
  {
   "cell_type": "code",
   "execution_count": 2,
   "metadata": {},
   "outputs": [],
   "source": [
    "# class TweetMiner:\n",
    "\n",
    "#     result_limit    =   20    \n",
    "#     data            =   []\n",
    "#     api             =   False\n",
    "    \n",
    "#     # Use the tokens and keys to esatblish connection \n",
    "#     def __init__(self, keys_dict=None, api=api, result_limit = 20):\n",
    "        \n",
    "#         if keys_dict == None:\n",
    "#             raise Exception(\"Please input Twitter keys!\")\n",
    "            \n",
    "#         else:\n",
    "        \n",
    "#             self.twitter_keys = keys_dict\n",
    "        \n",
    "#             auth = tweepy.OAuthHandler(keys_dict['consumer_key'], keys_dict['consumer_secret'])\n",
    "#             auth.set_access_token(keys_dict['access_token_key'], keys_dict['access_token_secret'])\n",
    "        \n",
    "#             self.api = tweepy.API(auth)\n",
    "        \n",
    "#             self.result_limit = result_limit\n",
    "    \n",
    "#     # Test authentication\n",
    "#     def verify(self):\n",
    "#         try:\n",
    "#             self.api.verify_credentials()\n",
    "#             print(\"Authentication OK\")\n",
    "#         except:\n",
    "#             print(\"Error during authentication\")\n",
    "    \n",
    "#     # Get basic information of the account hodler\n",
    "#     def my_info(self,friend=False):\n",
    "#         me = self.api.me()\n",
    "#         print(\"Screen_name:\",me.screen_name)\n",
    "#         print(\"id:\", me.id)\n",
    "#         print(\"Name:\", me.name)\n",
    "#         print(\"Friends Count:\", me.friends_count)\n",
    "#         print(\"Follower Count:\", me.followers_count)\n",
    "        \n",
    "#         if friend == True:\n",
    "#             print(\"\")\n",
    "#             print(\"Friends: \")\n",
    "#             friends_me = []\n",
    "#             for f in me.friends():\n",
    "#                 friends_me.append(f.screen_name)\n",
    "#             print(*friends_me,sep=', ')\n",
    "     \n",
    "#     # Get basic information of any of the user. \n",
    "#     # The input should  be user's id or screen_name\n",
    "#     def get_user_info(self, user, friend=False):\n",
    "#         user = self.api.get_user(user)\n",
    "#         print(\"Screen_name:\",user.screen_name)\n",
    "#         print(\"id:\", user.id)\n",
    "#         print(\"Name:\", user.name)\n",
    "#         print(\"Friends Count:\", user.friends_count)\n",
    "#         print(\"Follower Count:\", user.followers_count)\n",
    "        \n",
    "#         if friend == True:\n",
    "#             print(\"\")\n",
    "#             print(\"Friends: \")\n",
    "#             friends_me = []\n",
    "#             for f in user.friends():\n",
    "#                 friends_me.append(f.screen_name)\n",
    "#             print(*friends_me,sep=', ')\n",
    "     \n",
    "#     # Save content as file\n",
    "#     def save_file(self, path, content):\n",
    "#         with open(path, 'w') as file:\n",
    "#             file.write(content)\n",
    "    \n",
    "#     # Read the file line by line\n",
    "#     def load_file_line(self, path):\n",
    "#         with open(path, 'r') as file:\n",
    "#             content=[]\n",
    "#             for line in file:\n",
    "#                 content.append(line)\n",
    "#         return content\n",
    "    \n",
    "#     # Save dict to JSON file\n",
    "#     def save_json(self, path, content):\n",
    "#         with open(path, 'w') as jsonfile:\n",
    "#             json.dump(content, jsonfile, indent=4)\n",
    "    \n",
    "#     # Load in the JSON file\n",
    "#     def load_json(self, path):\n",
    "#         with open(path,'r') as jsonfile:\n",
    "#             json_dict = json.load(jsonfile)\n",
    "#         return json_dict\n",
    "    \n",
    "#     # Get the id of a user's friends\n",
    "#     # The input should  be user's id or screen_name\n",
    "#     def get_friends_id(self, user):\n",
    "#         friends_id = []\n",
    "#         u = self.api.get_user(user)\n",
    "#         num = u.friends_count\n",
    "# #         print(\"Friends Number: \", num)\n",
    "#         with tqdm(total=num) as pbar:\n",
    "#             for item in self.limit_handled(tweepy.Cursor(self.api.friends_ids, id=u.id).items(),friends_id):  \n",
    "#                 friends_id.append(item)\n",
    "#                 pbar.update(1)\n",
    "#         return friends_id\n",
    "    \n",
    "#     # Get screnn of an id list, and return a dictionary of id and its screen_name\n",
    "#     def get_sreen_name(self, id_list):\n",
    "#         screen_name_dict = {}\n",
    "#         for id_n in id_list:\n",
    "#             sc_n = self.api.get_user(id_n).screen_name\n",
    "#             screen_name_dict[id_n] = sc_n\n",
    "#         return screen_name_dict\n",
    "    \n",
    "#     # Transffer a lsit of id to screen name. With or without screen_name_dict is OK.\n",
    "#     def transfer_to_screen_name(self, id_list, screen_name_dict=None):\n",
    "#         if screen_name_dict==None:\n",
    "#             screen_name_dict=self.get_sreen_name(id_list)\n",
    "#         screen_name_list=[]\n",
    "#         for id_n in id_list:\n",
    "#             sc_n = screen_name_dict[id_n]\n",
    "#             screen_name_list.append(sc_n)\n",
    "#         return screen_name_list\n",
    "    \n",
    "#     # Get friends count for a list of users\n",
    "#     def get_friends_count(self, data_list):\n",
    "#         count_list=[]\n",
    "#         for i in data_list:\n",
    "#             user = self.api.get_user(i)\n",
    "#             friends_count = user.friends_count\n",
    "#             count_list.append(friends_count)\n",
    "#         return count_list\n",
    "    \n",
    "#     # Clean the user with firends count in some range. Also can include user without friends.\n",
    "#     def clean_user(self, data_list, lower_limit=1000001, uper_limit=1000000, zero=False):\n",
    "#         local_list=[]\n",
    "#         for i in data_list:\n",
    "#             local_list.append(i)\n",
    "        \n",
    "#         for j in data_list:\n",
    "#             user = self.api.get_user(j)\n",
    "#             friends_count = user.friends_count\n",
    "            \n",
    "#             if zero==False:\n",
    "#                 if friends_count > lower_limit and friends_count < uper_limit:\n",
    "#                     local_list.remove(j)\n",
    "#             else:\n",
    "#                 if friends_count==0 or (friends_count > lower_limit and friends_count < uper_limit):\n",
    "#                     local_list.remove(j)\n",
    "#         return local_list\n",
    "    \n",
    "#     # Get the friends of a lsit of users,and retrun as a dict{user:firends_id_list}\n",
    "#     def get_friends_id_second(self,data_list):\n",
    "#         friends_2_id_dict={}\n",
    "#         for i in data_list:\n",
    "#             friends_2_id_dict[i] = self.get_friends_id(i)\n",
    "#         return friends_2_id_dict\n",
    "    \n",
    "#     def get_tweets_dict(self, data_list):\n",
    "#         tweets_dict={}\n",
    "#         for user in data_list:\n",
    "#             tweets = []\n",
    "#             u = self.api.get_user(user)\n",
    "#             for item in self.limit_handled(tweepy.Cursor(self.api.user_timeline, id=u.id).items(),tweets_dict): \n",
    "#                 tweets.append(item)\n",
    "#             tweets_dict[user] = tweets\n",
    "#         return tweets_dict\n",
    "\n",
    "#     # Helper function to handle twitter API rate limit and TweepError\n",
    "#     def limit_handled(self, cursor, list_name):\n",
    "#         while True:\n",
    "#             try:\n",
    "#                 yield cursor.next()\n",
    "\n",
    "#             except tweepy.RateLimitError:\n",
    "#                 print(\"\\nCurrent number of data points in list = \" + str(len(list_name)))\n",
    "#                 print('Hit Twitter API rate limit.')\n",
    "#                 for i in range(3, 0, -1):\n",
    "#                     print(\"Wait for {} mins.\".format(i * 5))\n",
    "#                     time.sleep(5 * 60)\n",
    "\n",
    "#             except tweepy.error.TweepError:\n",
    "#                 print('\\nCaught TweepError exception' )\n",
    "#                 print(\"Length of the error list: \",len(list_name))\n",
    "#                 print(\"Error Position: \", list_name[-1])\n",
    "#                 print(\"\")\n",
    "#                 return True\n",
    "\n",
    "#             except StopIteration:\n",
    "#                 break\n",
    "                \n",
    "#     def parse_tweets(self,tweets_dict):\n",
    "#         # Weight quantity with **text**.\n",
    "\n",
    "#         # Combine timeline and user information as weight quantity. Including:\n",
    "#         # - freinds_number\n",
    "#         # - followers_number\n",
    "#         # - status_number\n",
    "#         # - quoted\n",
    "#         # - retweet\n",
    "#         # - reply\n",
    "#         # - text\n",
    "\n",
    "#         weight_quantity_text = {}\n",
    "        \n",
    "#         Nodes_list, Nodes_set = self.dict_key_sl(tweets_dict)\n",
    "\n",
    "#         # for node, tweets_list in tweets_dict_n.items():\n",
    "#         for node, tweets_list in tweets_dict.items():\n",
    "\n",
    "#             weight_quantity_text[node] = {\"freinds_number\":0, \"followers_number\":0, \"status_number\":0, \n",
    "#                                     \"quoted\":[], \"retweet\":[], \"reply\":[], \"text\":'0'}\n",
    "\n",
    "#             user = self.api.get_user(node)\n",
    "#             friends_number = user.friends_count\n",
    "#             followers_number = user.followers_count\n",
    "\n",
    "#             quoted_list = []\n",
    "#             retweet_list = []\n",
    "#             reply_list = []\n",
    "#             text_list = []\n",
    "\n",
    "#             for tweet in tweets_list:\n",
    "\n",
    "#                 rt_flag = False\n",
    "\n",
    "#                 # Text\n",
    "#                 text = tweet.text\n",
    "#                 text_list.append(text)\n",
    "\n",
    "#                 # Quoted\n",
    "#                 try:\n",
    "#                     quoted_name = tweet.quoted_status.user.screen_name\n",
    "\n",
    "#         #             if quoted_name in nodes_set:\n",
    "#                     if quoted_name in Nodes_set:\n",
    "#                         quoted_list.append(quoted_name)\n",
    "#                 except:\n",
    "#                     pass\n",
    "\n",
    "#                 # Retweet\n",
    "#                 try:\n",
    "#                     retweet_name = tweet.retweeted_status.user.screen_name\n",
    "#                     rt_flag = True\n",
    "\n",
    "#         #             if retweet_name in nodes_set:\n",
    "#                     if retweet_name in Nodes_set:\n",
    "#                         retweet_list.append(retweet_name)\n",
    "#                 except:\n",
    "#                     pass\n",
    "\n",
    "#                 # Reply\n",
    "#                 try:\n",
    "#                     error_test = tweet.entities['user_mentions'][0]['screen_name']\n",
    "#                     if not rt_flag:\n",
    "#                         for reply in tweet.entities['user_mentions']:\n",
    "#                             reply_name = reply['screen_name']\n",
    "\n",
    "#         #                     if reply_name in nodes_set:\n",
    "#                             if reply_name in Nodes_set:\n",
    "#                                 reply_list.append(reply_name)\n",
    "#                 except:\n",
    "#                     pass\n",
    "\n",
    "#             weight_quantity_text[node][\"freinds_number\"] = friends_number\n",
    "#             weight_quantity_text[node][\"followers_number\"] = followers_number\n",
    "#             weight_quantity_text[node][\"status_number\"] = len(tweets_list)\n",
    "\n",
    "#             weight_quantity_text[node][\"quoted\"] = quoted_list\n",
    "#             weight_quantity_text[node][\"retweet\"] = retweet_list\n",
    "#             weight_quantity_text[node][\"reply\"] = reply_list\n",
    "#             weight_quantity_text[node][\"text\"] = text_list\n",
    "\n",
    "\n",
    "#         print(\"Calculation Finished !!!\")\n",
    "#         return weight_quantity_text\n",
    "    \n",
    "#     def dict_key_sl(self, data_dict):\n",
    "#         key_list = []\n",
    "#         for key in data_dict:\n",
    "#             key_list.append(key)\n",
    "#         key_set = set(key_list) \n",
    "#         return key_list, key_set    \n",
    "    "
   ]
  },
  {
   "cell_type": "code",
   "execution_count": null,
   "metadata": {},
   "outputs": [],
   "source": []
  },
  {
   "cell_type": "code",
   "execution_count": 3,
   "metadata": {},
   "outputs": [
    {
     "name": "stdout",
     "output_type": "stream",
     "text": [
      "Authentication OK\n"
     ]
    }
   ],
   "source": [
    "# The above class is the backup of the TweeMiner, and we present here for clarity.\n",
    "# However, what we use is directly improt form the TweetMiner.py\n",
    "\n",
    "from TweetMiner import TweetMiner\n",
    "\n",
    "# This is my private key and token, pleaae use in safe\n",
    "twitter_keys = {\n",
    "        'consumer_key': \"F4YLU8rSuWdWX9Go0k5QzQciO\",\n",
    "        'consumer_secret': \"AstnlCx1lQt8WsExosAepZbG51W9v3Z7pgMncUK1WZLK5lVx0o\",\n",
    "        'access_token_key': \"1149369648502022144-POkUrum8Z9c7dx86RZ4vVKakSHhsAT\",\n",
    "        'access_token_secret': \"L3IR7JvXGM6uSkRy7ug1X8UVvVEPuCLAPZrEJUHAZscKL\"\n",
    "    }\n",
    "\n",
    "# Create the miner object and verify authentication \n",
    "\n",
    "Miner = TweetMiner(keys_dict = twitter_keys)\n",
    "Miner.verify()"
   ]
  },
  {
   "cell_type": "code",
   "execution_count": null,
   "metadata": {},
   "outputs": [],
   "source": []
  },
  {
   "cell_type": "code",
   "execution_count": 4,
   "metadata": {},
   "outputs": [
    {
     "name": "stdout",
     "output_type": "stream",
     "text": [
      "Screen_name: buluyou\n",
      "id: 1149369648502022144\n",
      "Name: buluyou\n",
      "Friends Count: 10\n",
      "Follower Count: 3\n",
      "\n",
      "Friends: \n",
      "HuXijin_GT, buluqiuqiu, cnnbrk, bertwagner, BBCBreaking, ChelseaFC, davepell, dulib, durham_uni, realDonaldTrump\n"
     ]
    }
   ],
   "source": [
    "# Get the Basic information of the account holder\n",
    "\n",
    "# set parameter friend to Ture to get the friend list\n",
    "Miner.my_info(friend=True)"
   ]
  },
  {
   "cell_type": "code",
   "execution_count": 5,
   "metadata": {},
   "outputs": [
    {
     "name": "stdout",
     "output_type": "stream",
     "text": [
      "Screen_name: buluqiuqiu\n",
      "id: 1273248508729012224\n",
      "Name: Shaw\n",
      "Friends Count: 7\n",
      "Follower Count: 2\n",
      "\n",
      "Friends: \n",
      "buluyou, BillGates, Cristiano, taylorswift13, elonmusk, BBCBreaking, cnnbrk\n"
     ]
    }
   ],
   "source": [
    "# Get the root user's basic information\n",
    "\n",
    "# set parameter friend to Ture to get the friend list\n",
    "Miner.get_user_info('buluqiuqiu', friend=True)"
   ]
  },
  {
   "cell_type": "code",
   "execution_count": 6,
   "metadata": {},
   "outputs": [
    {
     "name": "stderr",
     "output_type": "stream",
     "text": [
      "100%|████████████████████████████████████████████████████████████████████████████████████| 7/7 [00:00<00:00, 32.95it/s]\n"
     ]
    },
    {
     "name": "stdout",
     "output_type": "stream",
     "text": [
      "[1149369648502022144, 50393960, 155659213, 17919972, 44196397, 5402612, 428333]\n"
     ]
    }
   ],
   "source": [
    "# Get root user's friends list in id format\n",
    "\n",
    "friends_id = Miner.get_friends_id('buluqiuqiu')\n",
    "print(friends_id)"
   ]
  },
  {
   "cell_type": "code",
   "execution_count": 7,
   "metadata": {},
   "outputs": [
    {
     "name": "stdout",
     "output_type": "stream",
     "text": [
      "{1149369648502022144: 'buluyou', 50393960: 'BillGates', 155659213: 'Cristiano', 17919972: 'taylorswift13', 44196397: 'elonmusk', 5402612: 'BBCBreaking', 428333: 'cnnbrk'}\n"
     ]
    }
   ],
   "source": [
    "# Get teh screen name of the friends id list\n",
    "\n",
    "screen_name_dict=Miner.get_sreen_name(friends_id)\n",
    "print(screen_name_dict)"
   ]
  },
  {
   "cell_type": "code",
   "execution_count": 8,
   "metadata": {},
   "outputs": [
    {
     "name": "stdout",
     "output_type": "stream",
     "text": [
      "buluyou BillGates Cristiano taylorswift13 elonmusk BBCBreaking cnnbrk\n"
     ]
    }
   ],
   "source": [
    "# Transfer id to screen_name\n",
    "# We use the screen_name_dict generated above or we can use directly\n",
    "\n",
    "friends_sc = Miner.transfer_to_screen_name(friends_id, screen_name_dict)\n",
    "print(*friends_sc)"
   ]
  },
  {
   "cell_type": "code",
   "execution_count": 9,
   "metadata": {},
   "outputs": [
    {
     "name": "stdout",
     "output_type": "stream",
     "text": [
      "10 235 51 0 98 3 119\n"
     ]
    }
   ],
   "source": [
    "# First have a look of these user's firends count\n",
    "\n",
    "print(*Miner.get_friends_count(friends_id))"
   ]
  },
  {
   "cell_type": "code",
   "execution_count": 10,
   "metadata": {},
   "outputs": [
    {
     "name": "stdout",
     "output_type": "stream",
     "text": [
      "10 51 98 3\n",
      "buluyou Cristiano elonmusk BBCBreaking\n"
     ]
    }
   ],
   "source": [
    "# We remove the user with friends more than 5 and lower than 200, and also remove the user without friends(maybe locked)\n",
    "\n",
    "friends_id_re = Miner.clean_user(friends_id,lower_limit=100, uper_limit=100000, zero=True)\n",
    "print(*Miner.get_friends_count(friends_id_re))\n",
    "print(*Miner.transfer_to_screen_name(friends_id_re, screen_name_dict=None))"
   ]
  },
  {
   "cell_type": "code",
   "execution_count": 86,
   "metadata": {},
   "outputs": [
    {
     "name": "stderr",
     "output_type": "stream",
     "text": [
      "100%|██████████| 10/10 [00:00<00:00, 38.43it/s]\n",
      "100%|██████████| 51/51 [00:00<00:00, 228.60it/s]\n",
      "100%|██████████| 98/98 [00:00<00:00, 473.99it/s]\n",
      "  0%|          | 0/3 [00:00<?, ?it/s]"
     ]
    },
    {
     "name": "stdout",
     "output_type": "stream",
     "text": [
      "\n",
      "Current number of data points in list = 0\n",
      "Hit Twitter API rate limit.\n",
      "Wait for 15 mins.\n",
      "Wait for 10 mins.\n",
      "Wait for 5 mins.\n"
     ]
    },
    {
     "name": "stderr",
     "output_type": "stream",
     "text": [
      "100%|██████████| 3/3 [15:00<00:00, 300.20s/it]"
     ]
    },
    {
     "name": "stdout",
     "output_type": "stream",
     "text": [
      "4\n"
     ]
    },
    {
     "name": "stderr",
     "output_type": "stream",
     "text": [
      "\n"
     ]
    }
   ],
   "source": [
    "# Get the friends for the user in remaining users in root friends list\n",
    "\n",
    "friends_id_2_dict= Miner.get_friends_id_second(friends_id_re)\n",
    "print(len(friends_id_2_dict))"
   ]
  },
  {
   "cell_type": "code",
   "execution_count": 87,
   "metadata": {},
   "outputs": [],
   "source": [
    "# Save this dict as Relational dataset in JSON.\n",
    "\n",
    "Miner.save_json('Relational_Dataset.json',friends_id_2_dict)"
   ]
  },
  {
   "cell_type": "code",
   "execution_count": 11,
   "metadata": {},
   "outputs": [
    {
     "name": "stdout",
     "output_type": "stream",
     "text": [
      "Length of verify dict,  4\n"
     ]
    }
   ],
   "source": [
    "# Load the file to verify it\n",
    "\n",
    "verify_dict = Miner.load_json('Relational_Dataset.json')\n",
    "print(\"Length of verify dict, \", len(verify_dict))"
   ]
  },
  {
   "cell_type": "code",
   "execution_count": 12,
   "metadata": {},
   "outputs": [
    {
     "name": "stdout",
     "output_type": "stream",
     "text": [
      "The number of users: 4\n",
      "The number of tweets 13\n"
     ]
    }
   ],
   "source": [
    "# We collect tweets as raw data for all the remaining friends\n",
    "\n",
    "tweets_dict = Miner.get_tweets_dict(friends_id_re)\n",
    "print(\"The number of users:\",len(tweets_dict))\n",
    "print(\"The number of tweets\",len(tweets_dict[1149369648502022144]))"
   ]
  },
  {
   "cell_type": "code",
   "execution_count": 13,
   "metadata": {},
   "outputs": [
    {
     "name": "stdout",
     "output_type": "stream",
     "text": [
      "Calculation Finished !!!\n",
      "4\n",
      "['Kante, always my god!!! @buluqiuqiu  @ChelseaFC https://t.co/pHvCdsqpAq', \"@buluqiuqiu it's important! https://t.co/PCkYuEiwcb\", 'RT @WSJ: From @WSJopinion: Senator Tim Scott’s police reform bill is a good-faith effort to nudge local police departments toward better pr…', 'RT @WHOAFRO: Happening tomorrow!\\n\\n@MoetiTshidi will join @DrTedros,@LongondoEteni &amp; @MTamfum in a LIVE media briefing on the #COVID19 &amp; #Eb…', 'How is that? @buluqiuqiu https://t.co/KRurbFf4Z2', 'Em... @buluqiuqiu https://t.co/k17dVYFzoA', 'RT @CNNPolitics: JUST IN: Rep. Alexandria Ocasio-Cortez wins Democratic primary against Michelle Caruso-Cabrera, CNN projects https://t.co/…', 'RT @ChelseaFC: Happy birthday, Alex! ✨ https://t.co/J0EEKuryyY', \"@buluqiuqiu This is the second test for 'Reply'.\", \"This is a test message @buluqiuqiu for 'Reply-1'.\", \"Lowlifes??? What's that? https://t.co/DqaOVyrKsE\", 'RT @davepell: Before the pandemic, this was our big concern. https://t.co/fTf6WRhtQq', 'Learn from tigers!😍 https://t.co/NznrtEAKC9']\n"
     ]
    }
   ],
   "source": [
    "# Parse the raw data in the predefined format\n",
    "\n",
    "arttribute_dict = Miner.parse_tweets(tweets_dict)\n",
    "print(len(arttribute_dict))\n",
    "print(arttribute_dict[1149369648502022144]['text'])"
   ]
  },
  {
   "cell_type": "code",
   "execution_count": 14,
   "metadata": {},
   "outputs": [],
   "source": [
    "# Save this dict as Atrribute dataset in JSON.\n",
    "\n",
    "Miner.save_json('Attribute_Dataset.json',arttribute_dict)"
   ]
  },
  {
   "cell_type": "code",
   "execution_count": 15,
   "metadata": {},
   "outputs": [
    {
     "name": "stdout",
     "output_type": "stream",
     "text": [
      "4\n",
      "['Kante, always my god!!! @buluqiuqiu  @ChelseaFC https://t.co/pHvCdsqpAq', \"@buluqiuqiu it's important! https://t.co/PCkYuEiwcb\", 'RT @WSJ: From @WSJopinion: Senator Tim Scott’s police reform bill is a good-faith effort to nudge local police departments toward better pr…', 'RT @WHOAFRO: Happening tomorrow!\\n\\n@MoetiTshidi will join @DrTedros,@LongondoEteni &amp; @MTamfum in a LIVE media briefing on the #COVID19 &amp; #Eb…', 'How is that? @buluqiuqiu https://t.co/KRurbFf4Z2', 'Em... @buluqiuqiu https://t.co/k17dVYFzoA', 'RT @CNNPolitics: JUST IN: Rep. Alexandria Ocasio-Cortez wins Democratic primary against Michelle Caruso-Cabrera, CNN projects https://t.co/…', 'RT @ChelseaFC: Happy birthday, Alex! ✨ https://t.co/J0EEKuryyY', \"@buluqiuqiu This is the second test for 'Reply'.\", \"This is a test message @buluqiuqiu for 'Reply-1'.\", \"Lowlifes??? What's that? https://t.co/DqaOVyrKsE\", 'RT @davepell: Before the pandemic, this was our big concern. https://t.co/fTf6WRhtQq', 'Learn from tigers!😍 https://t.co/NznrtEAKC9']\n"
     ]
    }
   ],
   "source": [
    "# Load the file to verify it\n",
    "\n",
    "verify_dict = Miner.load_json('Attribute_Dataset.json')\n",
    "print(len(verify_dict))\n",
    "print(verify_dict[str(1149369648502022144)]['text'])"
   ]
  },
  {
   "cell_type": "code",
   "execution_count": null,
   "metadata": {},
   "outputs": [],
   "source": []
  }
 ],
 "metadata": {
  "kernelspec": {
   "display_name": "Python 3",
   "language": "python",
   "name": "python3"
  },
  "language_info": {
   "codemirror_mode": {
    "name": "ipython",
    "version": 3
   },
   "file_extension": ".py",
   "mimetype": "text/x-python",
   "name": "python",
   "nbconvert_exporter": "python",
   "pygments_lexer": "ipython3",
   "version": "3.7.3"
  }
 },
 "nbformat": 4,
 "nbformat_minor": 2
}
